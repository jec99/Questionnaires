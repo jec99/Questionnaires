{
 "cells": [
  {
   "cell_type": "code",
   "execution_count": 1,
   "metadata": {},
   "outputs": [
    {
     "data": {
      "text/plain": [
       "eigs_fast (generic function with 1 method)"
      ]
     },
     "execution_count": 1,
     "metadata": {},
     "output_type": "execute_result"
    }
   ],
   "source": [
    "include(\"ncut.jl\")"
   ]
  },
  {
   "cell_type": "code",
   "execution_count": 16,
   "metadata": {},
   "outputs": [
    {
     "data": {
      "text/plain": [
       "1000×10 Array{Float64,2}:\n",
       "  0.0551352    0.0525063     0.000421746  …  -0.000464942   0.0534678  \n",
       " -0.0197974   -0.046274     -0.0219459       -0.0220458     0.0380025  \n",
       " -0.0194927    0.0184566    -0.0104105        0.0125839    -0.00662306 \n",
       "  0.0203146   -0.0281054    -0.060711         0.00863478    0.0267301  \n",
       "  0.0484269    0.0527439    -0.000789161      0.0646999    -0.0307109  \n",
       "  0.00702386  -0.00191954   -0.0154492    …   0.000504602  -0.024698   \n",
       "  0.00372465   0.0390508     0.0196572        0.0128094    -0.00088696 \n",
       " -0.0293735    0.0172293    -0.0119067        0.011174      0.00340448 \n",
       "  0.0157691   -0.0349848    -0.0239359       -0.0182109     0.00705384 \n",
       "  0.0135728   -0.0239495    -0.0251357       -0.00107594    0.00273478 \n",
       "  0.0455873    0.0344716     0.037351     …   0.037582      0.00380879 \n",
       "  0.0222265   -0.0034446    -0.00350042       0.0235508    -0.0218914  \n",
       "  0.00249521   0.0175473    -0.00726341       0.0512416    -0.0210916  \n",
       "  ⋮                                       ⋱                            \n",
       "  0.0127409    0.0143089     0.0419235       -0.0333912    -0.0330745  \n",
       " -0.0171003   -0.00896758    0.0224001        0.010895     -0.00132828 \n",
       "  0.044966     0.0483057     0.0319759    …  -0.0709078     0.0430433  \n",
       "  0.0199185    0.0427389     0.0468418        0.0319084     0.0416458  \n",
       " -0.0314342    0.0417674     0.0124407        0.0478794     0.05264    \n",
       " -0.0176711    0.0306804    -0.0329083        0.0504462    -0.015945   \n",
       "  0.04042      0.000532609   0.0216039        0.0414184    -0.0243198  \n",
       " -0.0336517   -0.025412     -0.0480338    …  -0.0474692    -0.0146938  \n",
       " -0.0481992   -0.0386412     0.0136143        0.0210217     0.014493   \n",
       " -0.010172     0.000662849   0.0135596        0.00923197    0.0579697  \n",
       "  0.0251228   -0.00230009    0.0427778        0.0417544     0.0268341  \n",
       " -0.0331112    0.0449918     0.0188369        0.0308699     0.000384922"
      ]
     },
     "execution_count": 16,
     "metadata": {},
     "output_type": "execute_result"
    }
   ],
   "source": [
    "A = randn(1000,1000);\n",
    "A = A*A';\n",
    "true_vecs = eig(A)[2][:,end:-1:end-9]"
   ]
  },
  {
   "cell_type": "code",
   "execution_count": 17,
   "metadata": {
    "collapsed": true
   },
   "outputs": [],
   "source": [
    "using Compat\n",
    "using BenchmarkTools\n",
    "using PyPlot"
   ]
  },
  {
   "cell_type": "code",
   "execution_count": 7,
   "metadata": {
    "scrolled": true
   },
   "outputs": [
    {
     "data": {
      "text/plain": [
       "BenchmarkTools.Trial: \n",
       "  memory estimate:  325.63 KiB\n",
       "  allocs estimate:  1561\n",
       "  --------------\n",
       "  minimum time:     104.338 ms (0.00% GC)\n",
       "  median time:      112.669 ms (0.00% GC)\n",
       "  mean time:        113.496 ms (0.00% GC)\n",
       "  maximum time:     129.356 ms (0.00% GC)\n",
       "  --------------\n",
       "  samples:          45\n",
       "  evals/sample:     1"
      ]
     },
     "execution_count": 7,
     "metadata": {},
     "output_type": "execute_result"
    }
   ],
   "source": [
    "@benchmark eigs(A,nev=10)[1]"
   ]
  },
  {
   "cell_type": "code",
   "execution_count": 20,
   "metadata": {},
   "outputs": [
    {
     "data": {
      "text/plain": [
       "BenchmarkTools.Trial: \n",
       "  memory estimate:  10.35 MiB\n",
       "  allocs estimate:  879\n",
       "  --------------\n",
       "  minimum time:     84.266 ms (0.00% GC)\n",
       "  median time:      87.184 ms (0.00% GC)\n",
       "  mean time:        87.942 ms (1.08% GC)\n",
       "  maximum time:     100.650 ms (1.91% GC)\n",
       "  --------------\n",
       "  samples:          57\n",
       "  evals/sample:     1"
      ]
     },
     "execution_count": 20,
     "metadata": {},
     "output_type": "execute_result"
    }
   ],
   "source": [
    "@benchmark eigs_fast(A,10,q=20)[2]"
   ]
  },
  {
   "cell_type": "code",
   "execution_count": null,
   "metadata": {
    "collapsed": true
   },
   "outputs": [],
   "source": [
    "matshow(eigs_t)"
   ]
  }
 ],
 "metadata": {
  "kernelspec": {
   "display_name": "Julia 0.6.0",
   "language": "julia",
   "name": "julia-0.6"
  },
  "language_info": {
   "file_extension": ".jl",
   "mimetype": "application/julia",
   "name": "julia",
   "version": "0.6.0"
  }
 },
 "nbformat": 4,
 "nbformat_minor": 2
}
